{
 "cells": [
  {
   "cell_type": "code",
   "execution_count": 2,
   "metadata": {},
   "outputs": [],
   "source": [
    "import json\n",
    "import torch\n",
    "from typing import List, Optional, Tuple, Union"
   ]
  },
  {
   "cell_type": "code",
   "execution_count": 3,
   "metadata": {},
   "outputs": [],
   "source": [
    "def get_advantages_and_returns(\n",
    "        values: torch.Tensor,\n",
    "        rewards: torch.Tensor,\n",
    "        action_mask: torch.Tensor,\n",
    "        gamma: float,\n",
    "        lambd: float,\n",
    "    ) -> Tuple[torch.Tensor, torch.Tensor]:\n",
    "        \"\"\"Function that computes advantages and returns from rewards and values.\n",
    "        Calculated as in the original PPO paper: https://arxiv.org/abs/1707.06347\n",
    "        Note that rewards may include a KL divergence loss term.\n",
    "\n",
    "        Advantages looks like this:\n",
    "        Adv1 =  R1 + γ * λ * R2     + γ^2 * λ^2 * R3       + ...\n",
    "              - V1 + γ * (1 - λ) V2 + γ^2 * λ * (1 - λ) V3 + ...\n",
    "\n",
    "        Returns looks like this:\n",
    "        Ret1 =  R1 + γ * λ * R2     + γ^2 * λ^2 * R3       + ...\n",
    "                   + γ * (1 - λ) V2 + γ^2 * λ * (1 - λ) V3 + ...\n",
    "\n",
    "        Input:\n",
    "        - values: Tensor of shape (batch_size, response_size)\n",
    "        - rewards: Tensor of shape (batch_size, response_size)\n",
    "\n",
    "        Output:\n",
    "        - advantages: Tensor of shape (batch_size, response_size)\n",
    "        - returns: Tensor of shape (batch_size, response_size)\n",
    "        \"\"\"\n",
    "        lastgaelam = 0\n",
    "        advantages_reversed = []\n",
    "        response_length = rewards.size(1)\n",
    "\n",
    "        # Mask invalid responses\n",
    "        values = action_mask * values\n",
    "        rewards = action_mask * rewards\n",
    "\n",
    "        for t in reversed(range(response_length)):\n",
    "            nextvalues = values[:, t + 1] if t < response_length - 1 else 0.0\n",
    "            delta = rewards[:, t] + gamma * nextvalues - values[:, t]\n",
    "            lastgaelam = delta + gamma * lambd * lastgaelam\n",
    "            advantages_reversed.append(lastgaelam)\n",
    "        advantages = torch.stack(advantages_reversed[::-1], dim=1)\n",
    "        returns = advantages + values\n",
    "        return advantages.detach(), returns\n"
   ]
  },
  {
   "cell_type": "code",
   "execution_count": 8,
   "metadata": {},
   "outputs": [],
   "source": [
    "def _compute_advantages(\n",
    "        valid_values: torch.FloatTensor,\n",
    "        rewards: torch.FloatTensor,\n",
    "        shifted_labels_mask: torch.LongTensor,\n",
    "        gamma: float,\n",
    "        lambd: float,\n",
    "    ) -> Tuple[torch.FloatTensor, torch.FloatTensor]:\n",
    "        \"\"\"\n",
    "        Compute the advantages from the values and rewards.\n",
    "\n",
    "        Args:\n",
    "            valid_values (`torch.FloatTensor`):\n",
    "                The values of the responses, shape (`batch_size`, `max_seq_len-1`)\n",
    "            rewards (`torch.FloatTensor`):\n",
    "                The rewards of the responses, shape (`batch_size`, `max_seq_len-1`)\n",
    "            shifted_labels_mask (`torch.LongTensor`):\n",
    "                Left Shifted by 1 Mask for the labels (i.e. actions), shape (`batch_size`, `max_seq_len-1`)\n",
    "\n",
    "        Returns:\n",
    "            `torch.FloatTensor`: The advantages of the responses, shape (`batch_size`, `max_seq_len-1`)\n",
    "            `torch.FloatTensor`: The returns of the responses, shape (`batch_size`, `max_seq_len-1`)\n",
    "        \"\"\"\n",
    "        lastgaelam = 0\n",
    "        advantages_reversed = []\n",
    "        actions_seq_len = rewards.shape[-1]\n",
    "\n",
    "        # Make sure invalid rewards are masked\n",
    "        rewards *= shifted_labels_mask\n",
    "\n",
    "\n",
    "        for t in reversed(range(actions_seq_len)):\n",
    "            next_state_values = (\n",
    "                valid_values[:, t + 1] if t < (actions_seq_len - 1) else 0.0\n",
    "            )\n",
    "            delta = (\n",
    "                rewards[:, t]\n",
    "                + gamma * next_state_values\n",
    "                - valid_values[:, t]\n",
    "            )\n",
    "            lastgaelam = (\n",
    "                delta + gamma * lambd * lastgaelam\n",
    "            )\n",
    "            advantages_reversed.append(lastgaelam)\n",
    "        advantages = torch.stack(advantages_reversed[::-1]).transpose(0, 1)\n",
    "        assert advantages.shape == rewards.shape\n",
    "\n",
    "        returns = advantages + valid_values\n",
    "        return advantages.detach(), returns.detach()"
   ]
  },
  {
   "cell_type": "code",
   "execution_count": 12,
   "metadata": {},
   "outputs": [
    {
     "data": {
      "text/plain": [
       "(tensor([[0.8000, 0.8000, 0.5000, 0.5000, 1.0000, 1.0000, 1.0000]]),\n",
       " tensor([[1., 1., 1., 1., 1., 1., 1.]]))"
      ]
     },
     "execution_count": 12,
     "metadata": {},
     "output_type": "execute_result"
    }
   ],
   "source": [
    "values = torch.tensor([0.2,0.2,0.5,0.5, 0,0,0]).unsqueeze(0)\n",
    "rewards = torch.tensor([0,0,0,0,0, 0, 1]).unsqueeze(0)\n",
    "action_mask = torch.tensor([1,1,1,1,1,1,1]).unsqueeze(0)\n",
    "gamma = 1\n",
    "lambd = 1\n",
    "get_advantages_and_returns(values, rewards, action_mask, gamma, lambd)"
   ]
  },
  {
   "cell_type": "code",
   "execution_count": 5,
   "metadata": {},
   "outputs": [
    {
     "name": "stdout",
     "output_type": "stream",
     "text": [
      "tensor([[-1., -1., -1., -1., -1., -1., -1., -1., -1., -1., -1., -1., -1., -1.,\n",
      "         -1., -1., -1., -1., -1., -1., -1., -1., -1., -1., -1., -1., -1., -1.,\n",
      "         -1., -1., -1., -1., -1., -1., -1., -1., -1., -1., -1., -1., -1., -1.,\n",
      "         -1., -1., -1., -1., -1., -1., -1., -1., -1., -1., -1., -1., -1., -1.,\n",
      "         -1., -1., -1., -1., -1., -1., -1., -1., -1., -1., -1., -1., -1., -1.,\n",
      "         -1., -1., -1., -1., -1., -1., -1., -1., -1., -1., -1., -1., -1., -1.,\n",
      "         -1., -1., -1., -1., -1., -1., -1., -1., -1., -1., -1., -1., -1., -1.,\n",
      "         -1., -1., -1., -1., -1., -1., -1., -1., -1., -1., -1., -1., -1., -1.,\n",
      "         -1., -1., -1., -1., -1., -1., -1., -1., -1., -1., -1., -1., -1., -1.,\n",
      "         -1., -1., -1., -1., -1., -1., -1., -1., -1., -1., -1., -1., -1., -1.,\n",
      "         -1., -1., -1., -1., -1., -1., -1., -1., -1., -1., -1., -1., -1., -1.,\n",
      "         -1., -1., -1., -1., -1., -1., -1., -1., -1., -1., -1., -1., -1., -1.,\n",
      "         -1., -1., -1., -1., -1., -1., -1., -1., -1., -1., -1., -1., -1., -1.,\n",
      "         -1., -1., -1., -1., -1., -1., -1., -1., -1., -1., -1., -1., -1., -1.,\n",
      "         -1., -1., -1., -1., -1., -1., -1., -1., -1., -1., -1., -1., -1., -1.,\n",
      "         -1., -1., -1., -1., -1., -1., -1., -1., -1., -1., -1., -1., -1., -1.,\n",
      "         -1., -1., -1., -1., -1., -1., -1., -1., -1., -1., -1., -1., -1., -1.,\n",
      "         -1., -1., -1., -1., -1., -1., -1., -1., -1., -1., -1., -1., -1., -1.,\n",
      "         -1., -1., -1., -1., -1., -1., -1., -1., -1., -1., -1., -1., -1., -1.,\n",
      "         -1., -1., -1., -1., -1., -1., -1., -1., -1., -1., -1., -1., -1., -1.,\n",
      "         -1., -1., -1., -1., -1., -1., -1., -1., -1., -1., -1., -1., -1., -1.,\n",
      "         -1., -1., -1., -1., -1., -1., -1., -1., -1., -1., -1., -1., -1., -1.,\n",
      "         -1., -1., -1., -1., -1., -1., -1., -1., -1., -1., -1., -1., -1., -1.,\n",
      "         -1., -1., -1., -1., -1., -1., -1., -1., -1., -1., -1., -1., -1., -1.,\n",
      "         -1., -1., -1., -1., -1., -1., -1., -1., -1., -1., -1., -1., -1., -1.,\n",
      "         -1., -1., -1., -1., -1., -1., -1., -1., -1., -1., -1., -1., -1., -1.,\n",
      "         -1., -1., -1., -1., -1., -1., -1., -1., -1., -1., -1., -1., -1., -1.,\n",
      "         -1., -1., -1., -1., -1., -1., -1., -1., -1., -1., -1., -1., -1., -1.,\n",
      "         -1., -1., -1., -1., -1., -1., -1., -1., -1., -1., -1., -1., -1., -1.,\n",
      "         -1., -1., -1., -1., -1., -1., -1., -1., -1., -1., -1., -1., -1., -1.,\n",
      "         -1., -1., -1., -1., -1., -1., -1., -1., -1., -1., -1., -1., -1., -1.,\n",
      "         -1., -1., -1., -1., -1., -1., -1., -1., -1., -1., -1., -1., -1., -1.,\n",
      "         -1., -1., -1., -1., -1., -1., -1., -1., -1., -1., -1., -1., -1., -1.,\n",
      "         -1., -1., -1., -1., -1., -1., -1., -1., -1., -1., -1., -1., -1., -1.,\n",
      "         -1., -1., -1., -1., -1., -1., -1., -1., -1., -1., -1., -1., -1., -1.,\n",
      "         -1., -1., -1., -1., -1., -1., -1., -1., -1., -1., -1., -1., -1., -1.,\n",
      "         -1., -1., -1., -1., -1., -1., -1., -1., -1., -1., -1., -1., -1., -1.,\n",
      "         -1., -1., -1., -1., -1., -1., -1., -1., -1., -1., -1., -1., -1., -1.,\n",
      "         -1., -1., -1., -1., -1., -1., -1., -1., -1., -1., -1., -1., -1., -1.,\n",
      "         -1., -1., -1., -1., -1., -1., -1., -1., -1., -1., -1., -1., -1., -1.,\n",
      "         -1., -1., -1., -1., -1., -1., -1., -1., -1., -1., -1., -1., -1., -1.,\n",
      "         -1., -1., -1., -1., -1., -1., -1., -1., -1., -1., -1., -1., -1., -1.,\n",
      "         -1., -1., -1., -1., -1., -1., -1., -1., -1., -1., -1., -1., -1., -1.,\n",
      "         -1., -1., -1., -1., -1., -1., -1., -1., -1., -1., -1., -1., -1., -1.,\n",
      "         -1., -1., -1., -1., -1., -1., -1., -1., -1., -1., -1., -1., -1., -1.,\n",
      "         -1., -1., -1., -1., -1., -1., -1., -1., -1., -1., -1., -1., -1., -1.,\n",
      "         -1., -1., -1., -1., -1., -1., -1., -1., -1., -1., -1., -1., -1., -1.,\n",
      "         -1., -1., -1., -1., -1., -1., -1., -1., -1., -1., -1., -1., -1., -1.,\n",
      "         -1., -1., -1., -1., -1., -1., -1., -1., -1., -1., -1., -1., -1., -1.,\n",
      "         -1., -1., -1., -1., -1., -1., -1., -1., -1., -1., -1., -1., -1., -1.,\n",
      "         -1., -1., -1., -1., -1., -1., -1., -1., -1., -1., -1., -1., -1., -1.,\n",
      "         -1., -1., -1., -1., -1., -1., -1., -1., -1., -1., -1., -1., -1., -1.,\n",
      "         -1., -1., -1., -1., -1., -1., -1., -1., -1., -1., -1., -1., -1., -1.,\n",
      "         -1., -1., -1., -1., -1., -1., -1., -1., -1., -1., -1., -1., -1., -1.,\n",
      "         -1., -1., -1., -1., -1., -1., -1., -1., -1., -1., -1., -1., -1., -1.,\n",
      "         -1., -1., -1., -1., -1., -1., -1., -1., -1., -1., -1., -1., -1., -1.,\n",
      "         -1., -1., -1., -1., -1., -1., -1., -1., -1., -1., -1., -1., -1., -1.,\n",
      "         -1., -1., -1., -1., -1., -1., -1., -1., -1., -1., -1., -1., -1., -1.,\n",
      "         -1., -1., -1., -1., -1., -1., -1., -1., -1., -1., -1., -1., -1., -1.,\n",
      "         -1., -1., -1., -1., -1., -1., -1., -1., -1., -1., -1., -1., -1., -1.,\n",
      "         -1., -1., -1., -1., -1., -1., -1., -1., -1., -1., -1., -1., -1., -1.,\n",
      "         -1., -1., -1., -1., -1., -1., -1., -1., -1., -1., -1., -1., -1., -1.,\n",
      "         -1., -1., -1., -1., -1., -1., -1., -1., -1., -1., -1., -1., -1., -1.,\n",
      "         -1., -1., -1., -1., -1., -1., -1., -1., -1., -1., -1., -1., -1., -1.,\n",
      "         -1., -1., -1., -1., -1., -1., -1., -1., -1., -1., -1., -1., -1., -1.,\n",
      "         -1., -1., -1., -1., -1., -1., -1., -1., -1., -1., -1., -1., -1., -1.,\n",
      "         -1., -1., -1., -1., -1., -1., -1., -1., -1., -1., -1., -1., -1., -1.,\n",
      "         -1., -1., -1., -1., -1., -1., -1., -1., -1., -1., -1., -1., -1., -1.,\n",
      "         -1., -1., -1., -1., -1., -1., -1., -1., -1., -1., -1., -1., -1., -1.,\n",
      "         -1., -1., -1., -1., -1., -1., -1., -1., -1., -1., -1., -1., -1., -1.,\n",
      "         -1., -1., -1., -1., -1., -1., -1., -1., -1., -1., -1., -1., -1., -1.,\n",
      "         -1., -1., -1., -1., -1., -1.]]) tensor(-1.)\n"
     ]
    }
   ],
   "source": [
    "# 1000个0\n",
    "def masked_mean(tensor: torch.Tensor, mask: torch.Tensor, dim: int = None) -> torch.Tensor:\n",
    "    if dim is not None:\n",
    "        return (tensor * mask).sum(axis=dim) / (mask.sum(axis=dim) + 1e-7)\n",
    "    else:\n",
    "        return (tensor * mask).sum() / mask.sum()\n",
    "# values = torch.ones(1000)\n",
    "values = torch.zeros(1000)\n",
    "# print(values) \n",
    "values[-1] = 0\n",
    "rewards = torch.zeros(1000)\n",
    "rewards[-1] = -1\n",
    "values = values.unsqueeze(0)\n",
    "rewards = rewards.unsqueeze(0)\n",
    "action_mask = torch.ones(1000).unsqueeze(0)\n",
    "gamma = 1\n",
    "lambd = 1\n",
    "advantage,returns = get_advantages_and_returns(values, rewards, action_mask, gamma, lambd)\n",
    "mean = masked_mean(advantage, action_mask, dim=-1).mean()\n",
    "print(advantage,mean)"
   ]
  },
  {
   "cell_type": "code",
   "execution_count": 33,
   "metadata": {},
   "outputs": [
    {
     "data": {
      "text/plain": [
       "(tensor([[-1.3925, -1.1500, -1.0000]]), tensor([[-0.8925, -0.9500, -1.0000]]))"
      ]
     },
     "execution_count": 33,
     "metadata": {},
     "output_type": "execute_result"
    }
   ],
   "source": [
    "values = torch.tensor([0.5,0.2, 0]).unsqueeze(0)\n",
    "rewards = torch.tensor([0, 0, -1]).unsqueeze(0)\n",
    "action_mask = torch.tensor([1,1,1]).unsqueeze(0)\n",
    "gamma = 1\n",
    "lambd = 0.95\n",
    "get_advantages_and_returns(values, rewards, action_mask, gamma, lambd)"
   ]
  },
  {
   "cell_type": "code",
   "execution_count": 38,
   "metadata": {},
   "outputs": [
    {
     "name": "stdout",
     "output_type": "stream",
     "text": [
      "tensor([[0.8086, 0.7561, 0.9381],\n",
      "        [0.8739, 0.8820, 0.5278]])\n",
      "tensor([[1, 0, 0],\n",
      "        [0, 1, 0]])\n",
      "tensor([[0],\n",
      "        [1]])\n",
      "tensor([[0.0000, 0.7561, 0.9381],\n",
      "        [0.8739, 0.0000, 0.5278]])\n"
     ]
    }
   ],
   "source": [
    "#创建一个16，60的tensor\n",
    "values = torch.rand(2, 3)\n",
    "print(values)\n",
    "action_mask = torch.tensor([[1,0,0],[0,1,0]])\n",
    "print(action_mask)\n",
    "eos_indices = action_mask.size(1) - 1 - action_mask.long().fliplr().argmax(dim=1, keepdim=True)\n",
    "print(eos_indices)\n",
    "# 把values的eos_indices位置的值设置为0\n",
    "values.scatter_(1, eos_indices, 0)\n",
    "print(values)"
   ]
  }
 ],
 "metadata": {
  "kernelspec": {
   "display_name": "Python 3",
   "language": "python",
   "name": "python3"
  },
  "language_info": {
   "codemirror_mode": {
    "name": "ipython",
    "version": 3
   },
   "file_extension": ".py",
   "mimetype": "text/x-python",
   "name": "python",
   "nbconvert_exporter": "python",
   "pygments_lexer": "ipython3",
   "version": "3.10.12"
  }
 },
 "nbformat": 4,
 "nbformat_minor": 2
}
